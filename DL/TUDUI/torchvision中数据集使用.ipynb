{
 "cells": [
  {
   "cell_type": "code",
   "execution_count": 10,
   "metadata": {},
   "outputs": [
    {
     "name": "stdout",
     "output_type": "stream",
     "text": [
      "Files already downloaded and verified\n",
      "Files already downloaded and verified\n"
     ]
    }
   ],
   "source": [
    "import torchvision\n",
    "from torch.utils.tensorboard import SummaryWriter\n",
    "\n",
    "dataset_transform = torchvision.transforms.Compose(     #compose串联多个transform操作\n",
    "    [\n",
    "        torchvision.transforms.ToTensor()\n",
    "    ]\n",
    ")\n",
    "\n",
    "\n",
    "train_set = torchvision.datasets.CIFAR10(root=\"./dataset\",train=True,transform=dataset_transform,download=True)\n",
    "test_set = torchvision.datasets.CIFAR10(root=\"./dataset\",train=False,transform=dataset_transform,download=True)\n",
    "\n",
    "# print(test_set[0])\n",
    "\n",
    "# img,class_ = test_set[0]     #获取样本的属性\n",
    "# print(test_set.classes[class_])  \n",
    "# img.show()\n",
    "\n",
    "writer = SummaryWriter(\"logs\")\n",
    "\n",
    "for i in range(10):\n",
    "    img , class_ = test_set[i]\n",
    "    writer.add_image(\"test_set\",img,i)\n",
    "    \n",
    "writer.close()"
   ]
  }
 ],
 "metadata": {
  "kernelspec": {
   "display_name": "Python 3.8.13 ('DL')",
   "language": "python",
   "name": "python3"
  },
  "language_info": {
   "codemirror_mode": {
    "name": "ipython",
    "version": 3
   },
   "file_extension": ".py",
   "mimetype": "text/x-python",
   "name": "python",
   "nbconvert_exporter": "python",
   "pygments_lexer": "ipython3",
   "version": "3.8.13"
  },
  "orig_nbformat": 4,
  "vscode": {
   "interpreter": {
    "hash": "ac60ca918ea2dcfc13ce4d8d86827c29ad659ab4d6efb97b4cd39d868d8d12fd"
   }
  }
 },
 "nbformat": 4,
 "nbformat_minor": 2
}
