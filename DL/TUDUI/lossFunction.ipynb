{
 "cells": [
  {
   "cell_type": "markdown",
   "metadata": {},
   "source": [
    "loss = 真实值 - 预测值\n",
    "loss 越小越好，指导网络训练（反向传播）\n",
    "\n"
   ]
  },
  {
   "cell_type": "code",
   "execution_count": 4,
   "metadata": {},
   "outputs": [
    {
     "name": "stdout",
     "output_type": "stream",
     "text": [
      "tensor(0.6667)\n"
     ]
    }
   ],
   "source": [
    "import torch\n",
    "from torch.nn import L1Loss\n",
    "\n",
    "input = torch.tensor([1,2,3],dtype=torch.float32)\n",
    "target = torch.tensor([1,2,5],dtype=torch.float32)\n",
    "\n",
    "input = torch.reshape(input,(1,1,1,3))\n",
    "target = torch.reshape(target,(1,1,1,3))\n",
    "\n",
    "loss = L1Loss()   #L1Loss\n",
    "res = loss(input,target)\n",
    "print(res)"
   ]
  },
  {
   "cell_type": "code",
   "execution_count": 5,
   "metadata": {},
   "outputs": [
    {
     "name": "stdout",
     "output_type": "stream",
     "text": [
      "tensor(1.3333)\n"
     ]
    }
   ],
   "source": [
    "from torch.nn import MSELoss\n",
    "\n",
    "loss1 = MSELoss()  #均值误差\n",
    "res1 = loss1(input,target)\n",
    "print(res1)"
   ]
  },
  {
   "cell_type": "code",
   "execution_count": 12,
   "metadata": {},
   "outputs": [
    {
     "name": "stdout",
     "output_type": "stream",
     "text": [
      "tensor(1.1019)\n"
     ]
    }
   ],
   "source": [
    "from torch.nn import CrossEntropyLoss\n",
    "\n",
    "x =torch.tensor([0.1,0.2,0.3])  \n",
    "y = torch.tensor([1])\n",
    "x = torch.reshape(x,(1,3)) #input(N,C) ， batchsize ， 类别数\n",
    "loss2 = CrossEntropyLoss()\n",
    "res2 = loss2(x,y)\n",
    "print(res2)  "
   ]
  }
 ],
 "metadata": {
  "kernelspec": {
   "display_name": "Python 3.8.13 ('DL')",
   "language": "python",
   "name": "python3"
  },
  "language_info": {
   "codemirror_mode": {
    "name": "ipython",
    "version": 3
   },
   "file_extension": ".py",
   "mimetype": "text/x-python",
   "name": "python",
   "nbconvert_exporter": "python",
   "pygments_lexer": "ipython3",
   "version": "3.8.13"
  },
  "orig_nbformat": 4,
  "vscode": {
   "interpreter": {
    "hash": "ac60ca918ea2dcfc13ce4d8d86827c29ad659ab4d6efb97b4cd39d868d8d12fd"
   }
  }
 },
 "nbformat": 4,
 "nbformat_minor": 2
}
