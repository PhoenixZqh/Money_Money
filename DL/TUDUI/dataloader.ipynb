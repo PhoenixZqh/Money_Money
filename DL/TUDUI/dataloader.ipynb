{
 "cells": [
  {
   "cell_type": "code",
   "execution_count": 12,
   "metadata": {},
   "outputs": [
    {
     "name": "stdout",
     "output_type": "stream",
     "text": [
      "Files already downloaded and verified\n"
     ]
    }
   ],
   "source": [
    "import torchvision\n",
    "from torch.utils.data import DataLoader\n",
    "from torch.utils.tensorboard import SummaryWriter\n",
    "\n",
    "# dataset_transform = torchvision.transforms.Compose(\n",
    "#     [\n",
    "#         torchvision.transforms.ToTensor()\n",
    "#     ]\n",
    "# )\n",
    "\n",
    "test_set = torchvision.datasets.CIFAR10(root=\"dataset\",train=False,transform=torchvision.transforms.ToTensor(),download=True)\n",
    "\n",
    "test_loader = DataLoader(dataset=test_set,batch_size=64,shuffle=False,num_workers=0,drop_last=True)  #shuffel为True 会打乱顺序\n",
    "\n",
    "img, target = test_set[0]   # 测试集中第一张图片及target\n",
    "# print(img,target)\n",
    "\n",
    "    \n",
    "writer = SummaryWriter(\"dataloader\")\n",
    "for epoch in range(2):\n",
    "    step = 0\n",
    "    for data in test_loader:\n",
    "        imgs,targets = data\n",
    "        # print(imgs.shape)\n",
    "        # print(targets)\n",
    "        writer.add_images(\"Epoch:{}\".format(epoch),imgs,step)\n",
    "        step = step + 1\n",
    "    \n",
    "writer.close()\n",
    "    "
   ]
  }
 ],
 "metadata": {
  "kernelspec": {
   "display_name": "Python 3.8.13 ('DL')",
   "language": "python",
   "name": "python3"
  },
  "language_info": {
   "codemirror_mode": {
    "name": "ipython",
    "version": 3
   },
   "file_extension": ".py",
   "mimetype": "text/x-python",
   "name": "python",
   "nbconvert_exporter": "python",
   "pygments_lexer": "ipython3",
   "version": "3.8.13"
  },
  "orig_nbformat": 4,
  "vscode": {
   "interpreter": {
    "hash": "ac60ca918ea2dcfc13ce4d8d86827c29ad659ab4d6efb97b4cd39d868d8d12fd"
   }
  }
 },
 "nbformat": 4,
 "nbformat_minor": 2
}
