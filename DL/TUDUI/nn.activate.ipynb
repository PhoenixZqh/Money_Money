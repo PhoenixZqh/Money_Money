{
 "cells": [
  {
   "cell_type": "code",
   "execution_count": 8,
   "metadata": {},
   "outputs": [
    {
     "name": "stdout",
     "output_type": "stream",
     "text": [
      "Files already downloaded and verified\n",
      "tensor([[[[0.7311, 0.3543],\n",
      "          [0.2689, 0.9526]]]])\n"
     ]
    }
   ],
   "source": [
    "import torch \n",
    "import torchvision\n",
    "from torch import nn\n",
    "from torch.nn import ReLU\n",
    "from torch.nn import Sigmoid\n",
    "from torch.utils.data import DataLoader\n",
    "from torch.utils.tensorboard import SummaryWriter\n",
    "\n",
    "\n",
    "dataset = torchvision.datasets.CIFAR10(\"dataset\",train= False,transform = torchvision.transforms.ToTensor(),download=True)\n",
    "dataloader = DataLoader(dataset,batch_size=64)\n",
    "\n",
    "input = torch.tensor([[1,-0.6],\n",
    "                      [-1,3]])\n",
    "\n",
    "input = torch.reshape(input,(-1,1,2,2))\n",
    "\n",
    "class zModle(nn.Module):\n",
    "    def __init__(self) -> None:\n",
    "        super().__init__()\n",
    "        self.sigmoid1 = Sigmoid()\n",
    "        \n",
    "    def forward(self,input):\n",
    "        output = self.sigmoid1(input)\n",
    "        return output\n",
    "        \n",
    "model = zModle()\n",
    "output = model(input)\n",
    "print(output)\n",
    "\n",
    "\n",
    "step=0\n",
    "writer = SummaryWriter(\"logs\")\n",
    "for data in dataloader:\n",
    "    imgs, targets = data\n",
    "    output = model(imgs)\n",
    "    writer.add_images(\"input\",imgs,step)\n",
    "    writer.add_images(\"output\",output,step)\n",
    "    step += 1\n",
    "    \n",
    "writer.close()\n",
    "    \n",
    "\n",
    "    \n",
    "    "
   ]
  }
 ],
 "metadata": {
  "kernelspec": {
   "display_name": "Python 3.8.13 ('DL')",
   "language": "python",
   "name": "python3"
  },
  "language_info": {
   "codemirror_mode": {
    "name": "ipython",
    "version": 3
   },
   "file_extension": ".py",
   "mimetype": "text/x-python",
   "name": "python",
   "nbconvert_exporter": "python",
   "pygments_lexer": "ipython3",
   "version": "3.8.13"
  },
  "orig_nbformat": 4,
  "vscode": {
   "interpreter": {
    "hash": "ac60ca918ea2dcfc13ce4d8d86827c29ad659ab4d6efb97b4cd39d868d8d12fd"
   }
  }
 },
 "nbformat": 4,
 "nbformat_minor": 2
}
