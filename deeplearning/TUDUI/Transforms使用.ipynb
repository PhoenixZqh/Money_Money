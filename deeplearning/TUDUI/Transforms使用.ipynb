{
 "cells": [
  {
   "cell_type": "markdown",
   "metadata": {},
   "source": [
    "# TransForms\n",
    "\n",
    "1. ToTensor()\n",
    "2. Normalize()\n",
    "3. Resize()\n",
    "4. RandomCrop()\n"
   ]
  },
  {
   "cell_type": "code",
   "execution_count": 6,
   "metadata": {},
   "outputs": [],
   "source": [
    "from torchvision import transforms\n",
    "from torch.utils.tensorboard import SummaryWriter\n",
    "from PIL import Image\n",
    "\n",
    "import cv2\n",
    "\n",
    "img_path = \"hymenoptera_data/train/ants/6240329_72c01e663e.jpg\"\n",
    "img = Image.open(img_path)\n",
    "\n",
    "writer = SummaryWriter(\"logs\")\n",
    "\n",
    "\n",
    "tensor_trans = transforms.ToTensor()  #将img转换成tensor类型的image\n",
    "tensor_img = tensor_trans(img) \n",
    "# print(tensor_img)\n",
    "\n",
    "cv_img = cv2.imread(img_path)\n",
    "\n",
    "writer.add_image(\"tensor_img\",tensor_img)\n",
    "writer.close()\n",
    "\n"
   ]
  },
  {
   "cell_type": "code",
   "execution_count": 2,
   "metadata": {},
   "outputs": [],
   "source": [
    "from PIL import Image\n",
    "from torchvision import transforms\n",
    "\n",
    "img = Image.open(\"hymenoptera_data/val/bees/10870992_eebeeb3a12.jpg\")"
   ]
  },
  {
   "cell_type": "code",
   "execution_count": 5,
   "metadata": {},
   "outputs": [
    {
     "name": "stdout",
     "output_type": "stream",
     "text": [
      "__call__hellozhangsan\n",
      "hellojames\n"
     ]
    }
   ],
   "source": [
    "class Person:\n",
    "    def __call__(self,name):\n",
    "        print(\"__call__\"+\"hello\" + name)\n",
    "        \n",
    "    def hello(self,name):\n",
    "        print(\"hello\" + name)\n",
    "        \n",
    "person = Person()\n",
    "person(\"zhangsan\")\n",
    "person.hello(\"james\")\n"
   ]
  },
  {
   "cell_type": "code",
   "execution_count": 14,
   "metadata": {},
   "outputs": [],
   "source": [
    "# 使用PIL加载图片，然后将图片转换成tensor，然后进行归一化和resize操作\n",
    "\n",
    "img = Image.open(\"hymenoptera_data/val/bees/59798110_2b6a3c8031.jpg\")\n",
    "\n",
    "img_to_tensor = transforms.ToTensor()\n",
    "img_tensor = img_to_tensor(img)\n",
    "writer.add_image(\"tensor img\",img_tensor,0)    #保存图的名称、img_tensor、第几张图片、默认是CHW\n",
    "\n",
    "img_resize = transforms.Resize([800,500])\n",
    "img_resize = img_resize(img_tensor)\n",
    "writer.add_image(\"resize img\",img_resize,1)\n",
    "\n"
   ]
  }
 ],
 "metadata": {
  "kernelspec": {
   "display_name": "Python 3.8.13 ('DL')",
   "language": "python",
   "name": "python3"
  },
  "language_info": {
   "codemirror_mode": {
    "name": "ipython",
    "version": 3
   },
   "file_extension": ".py",
   "mimetype": "text/x-python",
   "name": "python",
   "nbconvert_exporter": "python",
   "pygments_lexer": "ipython3",
   "version": "3.8.13"
  },
  "orig_nbformat": 4,
  "vscode": {
   "interpreter": {
    "hash": "ac60ca918ea2dcfc13ce4d8d86827c29ad659ab4d6efb97b4cd39d868d8d12fd"
   }
  }
 },
 "nbformat": 4,
 "nbformat_minor": 2
}
