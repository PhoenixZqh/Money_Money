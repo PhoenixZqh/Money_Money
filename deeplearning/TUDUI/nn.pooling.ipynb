{
 "cells": [
  {
   "cell_type": "markdown",
   "metadata": {},
   "source": [
    "# 池化层\n",
    "\n",
    "<font color = \"green\">1. 不变性 <br> 2. 保留主要特征的同时减少参数量，防止过拟合</font>\n",
    "\n",
    "![ceil_mode的作用](./Pic/maxpooling.png)\n"
   ]
  },
  {
   "cell_type": "code",
   "execution_count": 10,
   "metadata": {},
   "outputs": [
    {
     "name": "stdout",
     "output_type": "stream",
     "text": [
      "Files already downloaded and verified\n",
      "torch.Size([1, 1, 5, 5])\n",
      "tensor([[[[2., 3.],\n",
      "          [5., 1.]]]])\n"
     ]
    }
   ],
   "source": [
    "import torch\n",
    "import torchvision\n",
    "from torch.utils.data import DataLoader\n",
    "from torch.utils.tensorboard import SummaryWriter\n",
    "from torch import nn\n",
    "from torch.nn import MaxPool2d\n",
    "\n",
    "dataset = torchvision.datasets.CIFAR10(\"dataset\",train=False,transform=torchvision.transforms.ToTensor(),download=True)\n",
    "dataloader = DataLoader(dataset,batch_size= 64)\n",
    "\n",
    "input = torch.tensor([[1,2,0,3,1],\n",
    "                      [0,1,2,3,1],\n",
    "                      [1,2,1,0,0],\n",
    "                      [5,2,3,1,1],\n",
    "                      [2,1,0,1,1]],dtype=torch.float32)\n",
    "\n",
    "#args: batch_size,  channels, 高， 宽\n",
    "# input = torch.reshape(input,(-1,1,5,5))\n",
    "input = input.reshape(-1,1,5,5)\n",
    "print(input.shape)\n",
    "\n",
    "# kernel = torch.tensor()\n",
    "\n",
    "class zModel(nn.Module):\n",
    "    def __init__(self) -> None:\n",
    "        super().__init__()\n",
    "        self.maxpool1 =  MaxPool2d(kernel_size=3,ceil_mode=True) #ceil_mode 为true表示空白部分保留\n",
    "    \n",
    "    def forward(self,input):\n",
    "        output = self.maxpool1(input)\n",
    "        return output\n",
    "    \n",
    "model = zModel()\n",
    "output = model(input)\n",
    "print(output)\n",
    "\n",
    "writer = SummaryWriter(\"maxpool\")\n",
    "\n",
    "step = 0\n",
    "for data in dataloader:\n",
    "    imgs, targets = data\n",
    "    output = model(imgs)\n",
    "    writer.add_images(\"input\",imgs,step)\n",
    "    writer.add_images(\"output\",output,step)\n",
    "    step += 1\n",
    " \n",
    "writer.close()   #记得close"
   ]
  }
 ],
 "metadata": {
  "kernelspec": {
   "display_name": "Python 3.8.13 ('DL')",
   "language": "python",
   "name": "python3"
  },
  "language_info": {
   "codemirror_mode": {
    "name": "ipython",
    "version": 3
   },
   "file_extension": ".py",
   "mimetype": "text/x-python",
   "name": "python",
   "nbconvert_exporter": "python",
   "pygments_lexer": "ipython3",
   "version": "3.8.13"
  },
  "orig_nbformat": 4,
  "vscode": {
   "interpreter": {
    "hash": "ac60ca918ea2dcfc13ce4d8d86827c29ad659ab4d6efb97b4cd39d868d8d12fd"
   }
  }
 },
 "nbformat": 4,
 "nbformat_minor": 2
}
