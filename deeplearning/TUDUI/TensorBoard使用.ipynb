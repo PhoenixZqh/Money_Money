{
 "cells": [
  {
   "cell_type": "markdown",
   "metadata": {},
   "source": [
    "# TensorBoard\n",
    "\n",
    "<font color = \"purple\"> 是一组用于数据可视化的工具 </font>\n",
    "\n",
    "1. 主要功能：\n",
    "- 可视化模型的网络架构\n",
    "- 跟踪模型指标，如损失和准确性等\n",
    "- 检查机器学习工作流程中权重、偏差和其他组件的直方图\n",
    "- 显示非表格数据，包括图像、文本和音频\n",
    "- 将高维嵌入投影到低维空间\n",
    "\n",
    "2. 打开TensorBoard,6007为自定义端口\n",
    "` tensorboard --logdir=logs --port=6007`    \n"
   ]
  },
  {
   "cell_type": "code",
   "execution_count": null,
   "metadata": {},
   "outputs": [],
   "source": [
    "from torch.utils.tensorboard import SummaryWriter\n",
    "import numpy as np\n",
    "from PIL import Image\n",
    "\n",
    "writer = SummaryWriter(\"logs\")\n",
    "\n",
    "img_path = \"hymenoptera_data/train/ants/0013035.jpg\"\n",
    "img_PIL = Image.open(img_path)\n",
    "img_array = np.array(img_PIL)\n",
    "print(type(img_array))\n",
    "\n",
    "writer.add_images(\"test\",img_array,1,dataformats=\"HWC\")\n",
    "\n",
    "for i in range(100):\n",
    "    writer.add_scalar(\"y=2x\",2*i,i)\n",
    "\n",
    "writer.close()"
   ]
  }
 ],
 "metadata": {
  "kernelspec": {
   "display_name": "Python 3.8.13 ('DL')",
   "language": "python",
   "name": "python3"
  },
  "language_info": {
   "codemirror_mode": {
    "name": "ipython",
    "version": 3
   },
   "file_extension": ".py",
   "mimetype": "text/x-python",
   "name": "python",
   "nbconvert_exporter": "python",
   "pygments_lexer": "ipython3",
   "version": "3.8.13"
  },
  "orig_nbformat": 4,
  "vscode": {
   "interpreter": {
    "hash": "ac60ca918ea2dcfc13ce4d8d86827c29ad659ab4d6efb97b4cd39d868d8d12fd"
   }
  }
 },
 "nbformat": 4,
 "nbformat_minor": 2
}
