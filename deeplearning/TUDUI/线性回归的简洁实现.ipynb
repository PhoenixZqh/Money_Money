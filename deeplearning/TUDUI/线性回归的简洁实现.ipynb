{
 "cells": [
  {
   "cell_type": "code",
   "execution_count": 14,
   "metadata": {},
   "outputs": [],
   "source": [
    "import numpy as np\n",
    "import torch\n",
    "from torch.utils import data\n",
    "from d2l import torch as d2l\n",
    "\n",
    "true_w = torch.tensor([2,-3.4])\n",
    "true_b = 4.2\n",
    "features, labels = d2l.synthetic_data(true_w, true_b,1000)"
   ]
  },
  {
   "cell_type": "code",
   "execution_count": 27,
   "metadata": {},
   "outputs": [
    {
     "data": {
      "text/plain": [
       "[tensor([[-0.6623,  0.1976],\n",
       "         [-0.2395,  0.4687],\n",
       "         [ 1.4655,  1.4288],\n",
       "         [ 0.3067, -0.2988],\n",
       "         [ 1.6249, -1.9813],\n",
       "         [-0.0846, -0.7443],\n",
       "         [-0.0951,  0.3293],\n",
       "         [-0.1191,  0.4772],\n",
       "         [-2.0759, -1.5367],\n",
       "         [ 0.1845, -1.4901]]),\n",
       " tensor([[ 2.2159],\n",
       "         [ 2.1201],\n",
       "         [ 2.2715],\n",
       "         [ 5.8263],\n",
       "         [14.1717],\n",
       "         [ 6.5700],\n",
       "         [ 2.8833],\n",
       "         [ 2.3562],\n",
       "         [ 5.2622],\n",
       "         [ 9.6358]])]"
      ]
     },
     "execution_count": 27,
     "metadata": {},
     "output_type": "execute_result"
    }
   ],
   "source": [
    "def load_array(data_arrays , batch_size, is_train=True):\n",
    "    dataset = data.TensorDataset(*data_arrays)\n",
    "    return data.DataLoader(dataset , batch_size, shuffle=is_train)\n",
    "\n",
    "batch_size = 10\n",
    "data_iter = load_array((features,labels),batch_size)\n",
    "next(iter(data_iter))"
   ]
  },
  {
   "cell_type": "code",
   "execution_count": 16,
   "metadata": {},
   "outputs": [
    {
     "data": {
      "text/plain": [
       "tensor([0.])"
      ]
     },
     "execution_count": 16,
     "metadata": {},
     "output_type": "execute_result"
    }
   ],
   "source": [
    "#使用框架的预定义好的层\n",
    "from torch import nn\n",
    "\n",
    "net = nn.Sequential(nn.Linear(2,1))\n",
    "\n",
    "#初始化模型参数\n",
    "net[0].weight.data.normal_(0,0.01)\n",
    "net[0].bias.data.fill_(0)"
   ]
  },
  {
   "cell_type": "code",
   "execution_count": 17,
   "metadata": {},
   "outputs": [],
   "source": [
    "loss = nn.MSELoss()"
   ]
  },
  {
   "cell_type": "code",
   "execution_count": 18,
   "metadata": {},
   "outputs": [],
   "source": [
    "trainer = torch.optim.SGD(net.parameters(),lr = 0.03)"
   ]
  },
  {
   "cell_type": "code",
   "execution_count": 28,
   "metadata": {},
   "outputs": [
    {
     "name": "stdout",
     "output_type": "stream",
     "text": [
      "epoch1, loss1.000000\n",
      "epoch2, loss1.000000\n",
      "epoch3, loss1.000000\n",
      "epoch4, loss1.000000\n",
      "epoch5, loss1.000000\n",
      "epoch6, loss1.000000\n",
      "epoch7, loss1.000000\n",
      "epoch8, loss1.000000\n",
      "epoch9, loss1.000000\n",
      "epoch10, loss1.000000\n",
      "epoch11, loss1.000000\n",
      "epoch12, loss1.000000\n",
      "epoch13, loss1.000000\n",
      "epoch14, loss1.000000\n",
      "epoch15, loss1.000000\n",
      "epoch16, loss1.000000\n",
      "epoch17, loss1.000000\n",
      "epoch18, loss1.000000\n",
      "epoch19, loss1.000000\n",
      "epoch20, loss1.000000\n",
      "epoch21, loss1.000000\n",
      "epoch22, loss1.000000\n",
      "epoch23, loss1.000000\n",
      "epoch24, loss1.000000\n",
      "epoch25, loss1.000000\n",
      "epoch26, loss1.000000\n",
      "epoch27, loss1.000000\n",
      "epoch28, loss1.000000\n",
      "epoch29, loss1.000000\n",
      "epoch30, loss1.000000\n",
      "epoch31, loss1.000000\n",
      "epoch32, loss1.000000\n",
      "epoch33, loss1.000000\n",
      "epoch34, loss1.000000\n",
      "epoch35, loss1.000000\n",
      "epoch36, loss1.000000\n",
      "epoch37, loss1.000000\n",
      "epoch38, loss1.000000\n",
      "epoch39, loss1.000000\n",
      "epoch40, loss1.000000\n",
      "epoch41, loss1.000000\n",
      "epoch42, loss1.000000\n",
      "epoch43, loss1.000000\n",
      "epoch44, loss1.000000\n",
      "epoch45, loss1.000000\n",
      "epoch46, loss1.000000\n",
      "epoch47, loss1.000000\n",
      "epoch48, loss1.000000\n",
      "epoch49, loss1.000000\n",
      "epoch50, loss1.000000\n",
      "epoch51, loss1.000000\n",
      "epoch52, loss1.000000\n",
      "epoch53, loss1.000000\n",
      "epoch54, loss1.000000\n",
      "epoch55, loss1.000000\n",
      "epoch56, loss1.000000\n",
      "epoch57, loss1.000000\n",
      "epoch58, loss1.000000\n",
      "epoch59, loss1.000000\n",
      "epoch60, loss1.000000\n",
      "epoch61, loss1.000000\n",
      "epoch62, loss1.000000\n",
      "epoch63, loss1.000000\n",
      "epoch64, loss1.000000\n",
      "epoch65, loss1.000000\n",
      "epoch66, loss1.000000\n",
      "epoch67, loss1.000000\n",
      "epoch68, loss1.000000\n",
      "epoch69, loss1.000000\n",
      "epoch70, loss1.000000\n",
      "epoch71, loss1.000000\n",
      "epoch72, loss1.000000\n",
      "epoch73, loss1.000000\n",
      "epoch74, loss1.000000\n",
      "epoch75, loss1.000000\n",
      "epoch76, loss1.000000\n",
      "epoch77, loss1.000000\n",
      "epoch78, loss1.000000\n",
      "epoch79, loss1.000000\n",
      "epoch80, loss1.000000\n",
      "epoch81, loss1.000000\n",
      "epoch82, loss1.000000\n",
      "epoch83, loss1.000000\n",
      "epoch84, loss1.000000\n",
      "epoch85, loss1.000000\n",
      "epoch86, loss1.000000\n",
      "epoch87, loss1.000000\n",
      "epoch88, loss1.000000\n",
      "epoch89, loss1.000000\n",
      "epoch90, loss1.000000\n",
      "epoch91, loss1.000000\n",
      "epoch92, loss1.000000\n",
      "epoch93, loss1.000000\n",
      "epoch94, loss1.000000\n",
      "epoch95, loss1.000000\n",
      "epoch96, loss1.000000\n",
      "epoch97, loss1.000000\n",
      "epoch98, loss1.000000\n",
      "epoch99, loss1.000000\n",
      "epoch100, loss1.000000\n"
     ]
    }
   ],
   "source": [
    "num_epochs = 100\n",
    "for epoch in range(num_epochs):\n",
    "    for x,y in data_iter:\n",
    "        l = loss(net(x),y)     #预测的值， 和真实的y\n",
    "        # print(l)\n",
    "        trainer.zero_grad()    #梯度清零\n",
    "        l.backward()\n",
    "        trainer.step()         #模型更新\n",
    "    l = loss(net(features) , labels)  #一次epoch后计算loss\n",
    "\n",
    "    print(f'epoch{epoch+1}, loss{  1:f}')\n"
   ]
  }
 ],
 "metadata": {
  "kernelspec": {
   "display_name": "Python 3.8.13 ('DL')",
   "language": "python",
   "name": "python3"
  },
  "language_info": {
   "codemirror_mode": {
    "name": "ipython",
    "version": 3
   },
   "file_extension": ".py",
   "mimetype": "text/x-python",
   "name": "python",
   "nbconvert_exporter": "python",
   "pygments_lexer": "ipython3",
   "version": "3.8.13"
  },
  "orig_nbformat": 4,
  "vscode": {
   "interpreter": {
    "hash": "ac60ca918ea2dcfc13ce4d8d86827c29ad659ab4d6efb97b4cd39d868d8d12fd"
   }
  }
 },
 "nbformat": 4,
 "nbformat_minor": 2
}
